{
 "cells": [
  {
   "cell_type": "code",
   "execution_count": 8,
   "metadata": {},
   "outputs": [],
   "source": [
    "import pandas as pd\n",
    "import numpy as np"
   ]
  },
  {
   "cell_type": "code",
   "execution_count": 46,
   "metadata": {},
   "outputs": [],
   "source": [
    "df = pd.read_csv('C:/Users/iagoa/Desktop/IC/FIFA_CONSOLIDADO3.csv')"
   ]
  },
  {
   "cell_type": "code",
   "execution_count": 50,
   "metadata": {},
   "outputs": [],
   "source": [
    "#Corrige nome de jogadores\n",
    "df['Name'] = np.where(df.Name.str.contains('\\?'), df.Correct_Name, df.Name)\n",
    "\n",
    "#Corrige nome de times\n",
    "df['Teams'] = np.where((df.Teams != df.Correct_Teams) & (df.Correct_Teams.notnull()), df.Correct_Teams, df.Teams)"
   ]
  },
  {
   "cell_type": "code",
   "execution_count": 87,
   "metadata": {},
   "outputs": [],
   "source": [
    "#Dropa colunas criadas\n",
    "df.drop(['Correct_Teams','Correct_Name','TeamID'], axis=1, inplace=True)"
   ]
  },
  {
   "cell_type": "code",
   "execution_count": 89,
   "metadata": {},
   "outputs": [],
   "source": [
    "df.to_csv('C:/Users/iagoa/Desktop/IC/Arquivos FIFA/FIFA_CONSOLIDADO4.csv', index=False)"
   ]
  }
 ],
 "metadata": {
  "kernelspec": {
   "display_name": "Python 3",
   "language": "python",
   "name": "python3"
  },
  "language_info": {
   "codemirror_mode": {
    "name": "ipython",
    "version": 3
   },
   "file_extension": ".py",
   "mimetype": "text/x-python",
   "name": "python",
   "nbconvert_exporter": "python",
   "pygments_lexer": "ipython3",
   "version": "3.6.4"
  }
 },
 "nbformat": 4,
 "nbformat_minor": 2
}

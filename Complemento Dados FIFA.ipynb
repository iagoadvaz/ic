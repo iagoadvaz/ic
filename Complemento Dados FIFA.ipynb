{
 "cells": [
  {
   "cell_type": "code",
   "execution_count": null,
   "metadata": {},
   "outputs": [],
   "source": [
    "from bs4 import BeautifulSoup\n",
    "import requests\n",
    "import pandas as pd\n",
    "import time"
   ]
  },
  {
   "cell_type": "code",
   "execution_count": null,
   "metadata": {},
   "outputs": [],
   "source": [
    "def get_page(link):\n",
    "    tries = 0\n",
    "    while tries < 3:\n",
    "        try:\n",
    "            page_link = link\n",
    "            # fetch the content from url\n",
    "            page_response = requests.get(page_link, timeout=5)\n",
    "            # parse html\n",
    "            page_content = BeautifulSoup(page_response.content, \"html.parser\")\n",
    "            break\n",
    "        except:\n",
    "            print('Sleeping')\n",
    "            print(link)\n",
    "            tries+=1\n",
    "            time.sleep(180)            \n",
    "    return page_content"
   ]
  },
  {
   "cell_type": "code",
   "execution_count": null,
   "metadata": {},
   "outputs": [],
   "source": [
    "def collect_data(link):\n",
    "    #coleta nomes e links para cada país/continente\n",
    "    try:\n",
    "        page_content = get_page(link)\n",
    "        \n",
    "        player_info = page_content.find('div', {'class': 'info'}).text.split('  ')[0].replace('\\n','')\n",
    "        player_meta = page_content.find('div', {'class': 'meta'}).text.split('  ')[0].replace('\\n','')\n",
    "        \n",
    "        if (player_info[1] == '.' and player_meta[1] == '.') or player_meta[1] == '.' or (player_info[1] != '.' and player_meta[1] != '.'):\n",
    "            player = player_info.split(' (ID')[0]\n",
    "        else:\n",
    "            player = player_meta\n",
    "            \n",
    "\n",
    "        #table com informações do time\n",
    "        tables = page_content.findAll('table')\n",
    "        try:\n",
    "            td = tables[0].findAll('td')\n",
    "            value = td[2].text.split('€')[1].replace('M','').replace('\\n','')\n",
    "            wage = td[3].text.split('€')[1].replace('K','').replace('\\n','')\n",
    "        except:\n",
    "            value = 0\n",
    "            wage = 0\n",
    "        try:\n",
    "            team_country = tables[1].findAll('a',title=True)[0].attrs['title']\n",
    "            team_name = tables[1].findAll('a',title=False)[0].text\n",
    "        except:\n",
    "            team_country,team_name = 'No Team','No Team'\n",
    "    except:\n",
    "        team_country,team_name, player = 'Link Incorreto','Link Incorreto', 'Link Incorreto'\n",
    "    return [player,team_country,team_name,value,wage]"
   ]
  },
  {
   "cell_type": "code",
   "execution_count": null,
   "metadata": {},
   "outputs": [],
   "source": [
    "data = pd.read_csv('C:/Users/iagoa/Desktop/IC/Arquivos FIFA/FIFA_CONSOLIDADO2.csv')\n",
    "data['Team_Country'] = ''\n",
    "data['Correct_Teams'] = ''\n",
    "data['Correct_Name'] = ''\n",
    "data['Wage_K'] = 0\n",
    "data['Value_M'] = 0\n",
    "data.Teams = data.Teams.str.replace(\"[\",'').str.replace(\"]\",'').str.replace(\"'\",\"\")"
   ]
  },
  {
   "cell_type": "code",
   "execution_count": null,
   "metadata": {},
   "outputs": [],
   "source": [
    "df_TVersion = pd.read_csv('C:/Users/iagoa/Desktop/IC/Arquivos FIFA/FIFA_PVersion_TVersion.csv')\n",
    "df_TVersion = df_TVersion[['PlayerID','Team','TeamID']].drop_duplicates()\n",
    "df_TVersion.columns = ['ID','Teams','TeamID']"
   ]
  },
  {
   "cell_type": "code",
   "execution_count": null,
   "metadata": {},
   "outputs": [],
   "source": [
    "df_collect = pd.merge(data,df_TVersion,how='left',on=['ID','Teams'])"
   ]
  },
  {
   "cell_type": "code",
   "execution_count": null,
   "metadata": {},
   "outputs": [],
   "source": [
    "df_log = pd.DataFrame(columns=['Link'])"
   ]
  },
  {
   "cell_type": "code",
   "execution_count": null,
   "metadata": {},
   "outputs": [],
   "source": [
    "#for idx, row in df_teste.loc[df_teste.Team_Country == '',['Link']].iterrows():\n",
    "for idx, row in df_collect.loc[df_collect.Team_Country == '',['Link']].iterrows():\n",
    "    try:\n",
    "        new_data = collect_data(row[0])\n",
    "        df_collect.loc[idx, ['Correct_Name','Team_Country','Correct_Teams','Value_M','Wage_K']] = new_data            \n",
    "    except:\n",
    "        df_log.loc[len(df_log)] = row\n",
    "df_log.to_csv('log_FIFA.csv',index=False)"
   ]
  },
  {
   "cell_type": "code",
   "execution_count": null,
   "metadata": {},
   "outputs": [],
   "source": [
    "df_collect.to_csv('FIFA_CONSOLIDADO3.csv',index=False)"
   ]
  }
 ],
 "metadata": {
  "kernelspec": {
   "display_name": "Python 3",
   "language": "python",
   "name": "python3"
  },
  "language_info": {
   "codemirror_mode": {
    "name": "ipython",
    "version": 3
   },
   "file_extension": ".py",
   "mimetype": "text/x-python",
   "name": "python",
   "nbconvert_exporter": "python",
   "pygments_lexer": "ipython3",
   "version": "3.6.4"
  }
 },
 "nbformat": 4,
 "nbformat_minor": 2
}

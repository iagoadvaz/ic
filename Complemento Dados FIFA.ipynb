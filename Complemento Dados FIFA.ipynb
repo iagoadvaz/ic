{
 "cells": [
  {
   "cell_type": "code",
   "execution_count": 1,
   "metadata": {},
   "outputs": [],
   "source": [
    "from bs4 import BeautifulSoup\n",
    "import requests\n",
    "import pandas as pd\n",
    "import time"
   ]
  },
  {
   "cell_type": "code",
   "execution_count": 2,
   "metadata": {},
   "outputs": [],
   "source": [
    "def get_page(link):\n",
    "    while True:\n",
    "        try:\n",
    "            page_link = link\n",
    "            # fetch the content from url\n",
    "            page_response = requests.get(page_link, timeout=5)\n",
    "            # parse html\n",
    "            page_content = BeautifulSoup(page_response.content, \"html.parser\")\n",
    "            break\n",
    "        except:\n",
    "            print('Sleeping')\n",
    "            time.sleep(60)\n",
    "    return page_content"
   ]
  },
  {
   "cell_type": "code",
   "execution_count": 3,
   "metadata": {},
   "outputs": [],
   "source": [
    "def collect_data(link):\n",
    "    #coleta nomes e links para cada país/continente\n",
    "    page_content = get_page(link)\n",
    "    player = page_content.find('div', {'class': 'meta'}).text.split('  ')[0].replace('\\n','')\n",
    "    #print(page_content.findAll('ul', {'class': 'pl'}))\n",
    "    table = page_content.findAll('table')[1]\n",
    "    team_country = table.findAll('a',title=True)[0].attrs['title']\n",
    "    team_name = table.findAll('a',title=False)[0].text\n",
    "    return [player,team_country,team_name]"
   ]
  },
  {
   "cell_type": "code",
   "execution_count": 4,
   "metadata": {},
   "outputs": [],
   "source": [
    "data = pd.read_csv('C:/Users/iagoa/Desktop/IC/Arquivos FIFA/FIFA_CONSOLIDADO2.csv')\n",
    "data['Team_Country'] = ''\n",
    "data.Teams = data.Teams.str.replace(\"[\",'').str.replace(\"]\",'').str.replace(\"'\",\"\")"
   ]
  },
  {
   "cell_type": "code",
   "execution_count": 5,
   "metadata": {
    "collapsed": true
   },
   "outputs": [
    {
     "ename": "NameError",
     "evalue": "name 'team_country' is not defined",
     "output_type": "error",
     "traceback": [
      "\u001b[1;31m---------------------------------------------------------------------------\u001b[0m",
      "\u001b[1;31mNameError\u001b[0m                                 Traceback (most recent call last)",
      "\u001b[1;32m<ipython-input-5-1a6f6d8ec885>\u001b[0m in \u001b[0;36m<module>\u001b[1;34m()\u001b[0m\n\u001b[0;32m      1\u001b[0m \u001b[0mdf\u001b[0m \u001b[1;33m=\u001b[0m \u001b[0mpd\u001b[0m\u001b[1;33m.\u001b[0m\u001b[0mDataFrame\u001b[0m\u001b[1;33m(\u001b[0m\u001b[0mcolumns\u001b[0m\u001b[1;33m=\u001b[0m\u001b[1;33m[\u001b[0m\u001b[1;34m'Country'\u001b[0m\u001b[1;33m,\u001b[0m\u001b[1;34m'Team'\u001b[0m\u001b[1;33m,\u001b[0m\u001b[1;34m'Player'\u001b[0m\u001b[1;33m]\u001b[0m\u001b[1;33m)\u001b[0m\u001b[1;33m\u001b[0m\u001b[0m\n\u001b[1;32m----> 2\u001b[1;33m \u001b[0mdf\u001b[0m\u001b[1;33m.\u001b[0m\u001b[0mloc\u001b[0m\u001b[1;33m[\u001b[0m\u001b[0mlen\u001b[0m\u001b[1;33m(\u001b[0m\u001b[0mdf\u001b[0m\u001b[1;33m)\u001b[0m\u001b[1;33m]\u001b[0m \u001b[1;33m=\u001b[0m \u001b[1;33m[\u001b[0m\u001b[0mteam_country\u001b[0m\u001b[1;33m,\u001b[0m\u001b[0mteam_name\u001b[0m\u001b[1;33m,\u001b[0m\u001b[0mplayer\u001b[0m\u001b[1;33m]\u001b[0m\u001b[1;33m\u001b[0m\u001b[0m\n\u001b[0m\u001b[0;32m      3\u001b[0m \u001b[0mdf\u001b[0m\u001b[1;33m.\u001b[0m\u001b[0mto_csv\u001b[0m\u001b[1;33m(\u001b[0m\u001b[1;34m'teste.csv'\u001b[0m\u001b[1;33m,\u001b[0m\u001b[0mindex\u001b[0m\u001b[1;33m=\u001b[0m\u001b[1;32mFalse\u001b[0m\u001b[1;33m)\u001b[0m\u001b[1;33m\u001b[0m\u001b[0m\n",
      "\u001b[1;31mNameError\u001b[0m: name 'team_country' is not defined"
     ]
    }
   ],
   "source": [
    "df = pd.DataFrame(columns=['Country','Team','Player'])\n",
    "df.loc[len(df)] = [team_country,team_name,player]\n",
    "df.to_csv('teste.csv',index=False)"
   ]
  },
  {
   "cell_type": "code",
   "execution_count": 6,
   "metadata": {},
   "outputs": [],
   "source": [
    "df_TVersion = pd.read_csv('C:/Users/iagoa/Desktop/IC/Arquivos FIFA/FIFA_PVersion_TVersion.csv')\n",
    "df_TVersion = df_TVersion[['PlayerID','Team','TeamID']]\n",
    "df_TVersion['TeamID'] = df_TVersion['TeamID'].astype(int)\n",
    "df_TVersion.columns = ['ID','Teams','TeamID']"
   ]
  },
  {
   "cell_type": "code",
   "execution_count": null,
   "metadata": {},
   "outputs": [],
   "source": [
    "%%time\n",
    "data = pd.merge(data,df_TVersion,how='left',on=['ID','Teams'])"
   ]
  },
  {
   "cell_type": "code",
   "execution_count": null,
   "metadata": {},
   "outputs": [],
   "source": [
    "df_log = pd.DataFrame(columns=['Link'])"
   ]
  },
  {
   "cell_type": "code",
   "execution_count": null,
   "metadata": {},
   "outputs": [
    {
     "name": "stdout",
     "output_type": "stream",
     "text": [
      "Sleeping\n",
      "Sleeping\n",
      "Sleeping\n",
      "Sleeping\n",
      "Sleeping\n",
      "Sleeping\n",
      "Sleeping\n",
      "Sleeping\n",
      "Sleeping\n",
      "Sleeping\n",
      "Sleeping\n",
      "Sleeping\n",
      "Sleeping\n",
      "Sleeping\n",
      "Sleeping\n",
      "Sleeping\n",
      "Sleeping\n"
     ]
    }
   ],
   "source": [
    "%%time\n",
    "for link in data.Link.values:\n",
    "    try:\n",
    "        row = collect_data(link)\n",
    "        data.loc[data.Link == link, ['Name','Team_Country','Teams']] = row\n",
    "    except:\n",
    "        df_log.loc[len(df_log)] = link\n",
    "df_log.to_csv('log_FIFA.csv',index=False)"
   ]
  },
  {
   "cell_type": "code",
   "execution_count": null,
   "metadata": {},
   "outputs": [],
   "source": [
    "data.to_csv('C:/Users/iagoa/Desktop/IC/Arquivos FIFA/FIFA_CONSOLIDADO3.csv')"
   ]
  },
  {
   "cell_type": "code",
   "execution_count": null,
   "metadata": {},
   "outputs": [],
   "source": [
    "data.to_excel('C:/Users/iagoa/Desktop/IC/Arquivos FIFA/FIFA_CONSOLIDADO3.xlsx')"
   ]
  }
 ],
 "metadata": {
  "kernelspec": {
   "display_name": "Python 3",
   "language": "python",
   "name": "python3"
  },
  "language_info": {
   "codemirror_mode": {
    "name": "ipython",
    "version": 3
   },
   "file_extension": ".py",
   "mimetype": "text/x-python",
   "name": "python",
   "nbconvert_exporter": "python",
   "pygments_lexer": "ipython3",
   "version": "3.6.4"
  }
 },
 "nbformat": 4,
 "nbformat_minor": 2
}
